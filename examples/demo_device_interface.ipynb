{
 "cells": [
  {
   "attachments": {},
   "cell_type": "markdown",
   "metadata": {},
   "source": [
    "# Device Interface Demo\n",
    "\n",
    "This demo introduces the device interfaces.  "
   ]
  },
  {
   "cell_type": "code",
   "execution_count": 3,
   "metadata": {},
   "outputs": [],
   "source": [
    "import os\n",
    "import yaml\n",
    "from pprint import pprint\n",
    "\n",
    "from console.spcm_control.device import yaml_loader"
   ]
  },
  {
   "attachments": {},
   "cell_type": "markdown",
   "metadata": {},
   "source": [
    "### Constructing Devices\n",
    "By now, there is a base abstract class `SpectrumDevice` and two interfaces `TxCard` and `RxCard` which inherit from `SpectrumDevice`. The construction of a `TxCard` or `RxCard` instance, is achieved by using `!TxCard` and `!RxCard` respectively in the `device_config.yaml` file. Therefore, we need to load the yaml file with the loader imported from `spcm_control.device`. All devices can be accessed by the key `devices`. "
   ]
  },
  {
   "cell_type": "code",
   "execution_count": 6,
   "metadata": {},
   "outputs": [
    {
     "name": "stdout",
     "output_type": "stream",
     "text": [
      "TxCard\n",
      "{'amplitude': 1,\n",
      " 'card': <ctypes.wintypes.LP_c_ulonglong object at 0x00000235673BF850>,\n",
      " 'func_type': c_long(0),\n",
      " 'name': 'M2p.6546-x4',\n",
      " 'path': '/dev/spcm0',\n",
      " 'sample_rate': 2,\n",
      " 'segment_size': 4096,\n",
      " 'serial_number': c_long(100000)}\n",
      "RxCard\n",
      "{'card': <ctypes.wintypes.LP_c_ulonglong object at 0x00000235675D87D0>,\n",
      " 'func_type': c_long(0),\n",
      " 'name': 'M2p.5933-x4',\n",
      " 'path': '/dev/spcm1',\n",
      " 'serial_number': c_long(100001)}\n"
     ]
    }
   ],
   "source": [
    "# Config file path\n",
    "config_file = os.path.normpath(\"/Users/schote01/code/spectrum-pulseq/device_config.yaml\")\n",
    "\n",
    "# Load config\n",
    "with open(config_file, 'rb') as file:\n",
    "    config = yaml.load(file, Loader=yaml_loader)\n",
    "\n",
    "# Get devices: RxCard or TxCard\n",
    "devices = config[\"devices\"]\n",
    "\n",
    "# Print devices\n",
    "for dev in devices:\n",
    "    print(dev.__name__)\n",
    "    pprint(dev.dict())"
   ]
  }
 ],
 "metadata": {
  "kernelspec": {
   "display_name": "py311-venv",
   "language": "python",
   "name": "python3"
  },
  "language_info": {
   "codemirror_mode": {
    "name": "ipython",
    "version": 3
   },
   "file_extension": ".py",
   "mimetype": "text/x-python",
   "name": "python",
   "nbconvert_exporter": "python",
   "pygments_lexer": "ipython3",
   "version": "3.11.0"
  },
  "orig_nbformat": 4
 },
 "nbformat": 4,
 "nbformat_minor": 2
}
