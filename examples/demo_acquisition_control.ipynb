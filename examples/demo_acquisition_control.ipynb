{
 "cells": [
  {
   "cell_type": "code",
   "execution_count": 3,
   "metadata": {},
   "outputs": [
    {
     "ename": "ImportError",
     "evalue": "cannot import name 'TxCard' from 'console.spcm_control.device_interface' (/home/schote01/code/spectrum-console/console/spcm_control/device_interface.py)",
     "output_type": "error",
     "traceback": [
      "\u001b[0;31m---------------------------------------------------------------------------\u001b[0m",
      "\u001b[0;31mImportError\u001b[0m                               Traceback (most recent call last)",
      "Cell \u001b[0;32mIn[3], line 7\u001b[0m\n\u001b[1;32m      4\u001b[0m \u001b[39mimport\u001b[39;00m \u001b[39mnumpy\u001b[39;00m \u001b[39mas\u001b[39;00m \u001b[39mnp\u001b[39;00m\n\u001b[1;32m      6\u001b[0m \u001b[39mfrom\u001b[39;00m \u001b[39mconsole\u001b[39;00m\u001b[39m.\u001b[39;00m\u001b[39mutilities\u001b[39;00m\u001b[39m.\u001b[39;00m\u001b[39mio\u001b[39;00m \u001b[39mimport\u001b[39;00m yaml_loader\n\u001b[0;32m----> 7\u001b[0m \u001b[39mfrom\u001b[39;00m \u001b[39mconsole\u001b[39;00m\u001b[39m.\u001b[39;00m\u001b[39mspcm_control\u001b[39;00m\u001b[39m.\u001b[39;00m\u001b[39macquisition_control\u001b[39;00m \u001b[39mimport\u001b[39;00m AcquistionControl\n\u001b[1;32m      8\u001b[0m \u001b[39mfrom\u001b[39;00m \u001b[39mconsole\u001b[39;00m\u001b[39m.\u001b[39;00m\u001b[39mpulseq_interpreter\u001b[39;00m\u001b[39m.\u001b[39;00m\u001b[39msequence\u001b[39;00m \u001b[39mimport\u001b[39;00m SequenceProvider\n",
      "File \u001b[0;32m~/code/spectrum-console/console/spcm_control/acquisition_control.py:8\u001b[0m\n\u001b[1;32m      5\u001b[0m \u001b[39mimport\u001b[39;00m \u001b[39mnumpy\u001b[39;00m \u001b[39mas\u001b[39;00m \u001b[39mnp\u001b[39;00m\n\u001b[1;32m      7\u001b[0m \u001b[39mfrom\u001b[39;00m \u001b[39mconsole\u001b[39;00m\u001b[39m.\u001b[39;00m\u001b[39mutilities\u001b[39;00m\u001b[39m.\u001b[39;00m\u001b[39mio\u001b[39;00m \u001b[39mimport\u001b[39;00m yaml_loader\n\u001b[0;32m----> 8\u001b[0m \u001b[39mfrom\u001b[39;00m \u001b[39mconsole\u001b[39;00m\u001b[39m.\u001b[39;00m\u001b[39mspcm_control\u001b[39;00m\u001b[39m.\u001b[39;00m\u001b[39mdevice_interface\u001b[39;00m \u001b[39mimport\u001b[39;00m TxCard, RxCard\n\u001b[1;32m      9\u001b[0m \u001b[39mfrom\u001b[39;00m \u001b[39mconsole\u001b[39;00m\u001b[39m.\u001b[39;00m\u001b[39mpulseq_interpreter\u001b[39;00m\u001b[39m.\u001b[39;00m\u001b[39msequence\u001b[39;00m \u001b[39mimport\u001b[39;00m SequenceProvider\n\u001b[1;32m     13\u001b[0m \u001b[39mclass\u001b[39;00m \u001b[39mAcquistionControl\u001b[39;00m:\n",
      "\u001b[0;31mImportError\u001b[0m: cannot import name 'TxCard' from 'console.spcm_control.device_interface' (/home/schote01/code/spectrum-console/console/spcm_control/device_interface.py)"
     ]
    }
   ],
   "source": [
    "# Imports\n",
    "import os\n",
    "import yaml\n",
    "import numpy as np\n",
    "\n",
    "from console.utilities.io import yaml_loader\n",
    "from console.spcm_control.acquisition_control import AcquistionControl\n",
    "from console.pulseq_interpreter.sequence import SequenceProvider"
   ]
  },
  {
   "cell_type": "code",
   "execution_count": 2,
   "metadata": {},
   "outputs": [
    {
     "ename": "FileNotFoundError",
     "evalue": "[Errno 2] No such file or directory: '/Users/schote01/code/spectrum-pulseq/device_config.yaml'",
     "output_type": "error",
     "traceback": [
      "\u001b[0;31m---------------------------------------------------------------------------\u001b[0m",
      "\u001b[0;31mFileNotFoundError\u001b[0m                         Traceback (most recent call last)",
      "Cell \u001b[0;32mIn[2], line 4\u001b[0m\n\u001b[1;32m      1\u001b[0m config_file \u001b[39m=\u001b[39m os\u001b[39m.\u001b[39mpath\u001b[39m.\u001b[39mnormpath(\u001b[39m\"\u001b[39m\u001b[39m/Users/schote01/code/spectrum-pulseq/device_config.yaml\u001b[39m\u001b[39m\"\u001b[39m)\n\u001b[1;32m      3\u001b[0m \u001b[39m# Load config\u001b[39;00m\n\u001b[0;32m----> 4\u001b[0m \u001b[39mwith\u001b[39;00m \u001b[39mopen\u001b[39;49m(config_file, \u001b[39m'\u001b[39;49m\u001b[39mrb\u001b[39;49m\u001b[39m'\u001b[39;49m) \u001b[39mas\u001b[39;00m file:\n\u001b[1;32m      5\u001b[0m     config \u001b[39m=\u001b[39m yaml\u001b[39m.\u001b[39mload(file, Loader\u001b[39m=\u001b[39myaml_loader)\n\u001b[1;32m      7\u001b[0m \u001b[39m# Get devices: RxCard or TxCard\u001b[39;00m\n",
      "File \u001b[0;32m~/code/spectrum-console/.venv/lib/python3.10/site-packages/IPython/core/interactiveshell.py:284\u001b[0m, in \u001b[0;36m_modified_open\u001b[0;34m(file, *args, **kwargs)\u001b[0m\n\u001b[1;32m    277\u001b[0m \u001b[39mif\u001b[39;00m file \u001b[39min\u001b[39;00m {\u001b[39m0\u001b[39m, \u001b[39m1\u001b[39m, \u001b[39m2\u001b[39m}:\n\u001b[1;32m    278\u001b[0m     \u001b[39mraise\u001b[39;00m \u001b[39mValueError\u001b[39;00m(\n\u001b[1;32m    279\u001b[0m         \u001b[39mf\u001b[39m\u001b[39m\"\u001b[39m\u001b[39mIPython won\u001b[39m\u001b[39m'\u001b[39m\u001b[39mt let you open fd=\u001b[39m\u001b[39m{\u001b[39;00mfile\u001b[39m}\u001b[39;00m\u001b[39m by default \u001b[39m\u001b[39m\"\u001b[39m\n\u001b[1;32m    280\u001b[0m         \u001b[39m\"\u001b[39m\u001b[39mas it is likely to crash IPython. If you know what you are doing, \u001b[39m\u001b[39m\"\u001b[39m\n\u001b[1;32m    281\u001b[0m         \u001b[39m\"\u001b[39m\u001b[39myou can use builtins\u001b[39m\u001b[39m'\u001b[39m\u001b[39m open.\u001b[39m\u001b[39m\"\u001b[39m\n\u001b[1;32m    282\u001b[0m     )\n\u001b[0;32m--> 284\u001b[0m \u001b[39mreturn\u001b[39;00m io_open(file, \u001b[39m*\u001b[39;49margs, \u001b[39m*\u001b[39;49m\u001b[39m*\u001b[39;49mkwargs)\n",
      "\u001b[0;31mFileNotFoundError\u001b[0m: [Errno 2] No such file or directory: '/Users/schote01/code/spectrum-pulseq/device_config.yaml'"
     ]
    }
   ],
   "source": [
    "config_file = os.path.normpath(\"/Users/schote01/code/spectrum-pulseq/device_config.yaml\")\n",
    "\n",
    "# Load config\n",
    "with open(config_file, 'rb') as file:\n",
    "    config = yaml.load(file, Loader=yaml_loader)\n",
    "\n",
    "# Get devices: RxCard or TxCard\n",
    "devices = config[\"devices\"]\n",
    "tx_card = list(filter(lambda device: device.__name__ == \"TxCard\", devices))[0]\n",
    "rx_card = list(filter(lambda device: device.__name__ == \"RxCard\", devices))[0]\n",
    "\n",
    "acq_control = AcquistionControl(tx_card, rx_card)"
   ]
  },
  {
   "cell_type": "code",
   "execution_count": 5,
   "metadata": {},
   "outputs": [
    {
     "name": "stdout",
     "output_type": "stream",
     "text": [
      "Data passed to acquire func.: [ 0  1  2  3  4  5  6  7  8  9 10 11 12 13 14 15]\n",
      "Number of active channels: 4\n",
      "Driver adjusted the sampling rate, sampling rate now is 2000000...\n",
      "Operating TX Card...\n",
      "Sequence data in thread: [ 0  1  2  3  4  5  6  7  8  9 10 11 12 13 14 15]\n",
      "Ctrl: Running sequence... 6.0%\n",
      "Ctrl: Running sequence... 6.0%\n",
      "Ctrl: Running sequence... 12.0%\n",
      "Ctrl: Running sequence... 12.0%\n",
      "Ctrl: Running sequence... 19.0%\n",
      "Ctrl: Running sequence... 19.0%\n",
      "Ctrl: Running sequence... 25.0%\n",
      "Ctrl: Running sequence... 25.0%\n",
      "Ctrl: Running sequence... 31.0%\n",
      "Ctrl: Running sequence... 31.0%\n",
      "Ctrl: Running sequence... 38.0%\n",
      "Ctrl: Running sequence... 38.0%\n",
      "Ctrl: Running sequence... 44.0%\n",
      "Ctrl: Running sequence... 44.0%\n",
      "Ctrl: Running sequence... 50.0%\n",
      "Ctrl: Running sequence... 50.0%\n",
      "Thrd: Half of sequence data processed...\n",
      "Ctrl: Running sequence... 56.00000000000001%\n",
      "Ctrl: Running sequence... 56.00000000000001%\n",
      "Ctrl: Running sequence... 62.0%\n",
      "Ctrl: Running sequence... 69.0%\n",
      "Ctrl: Running sequence... 69.0%\n",
      "Ctrl: Running sequence... 75.0%\n",
      "Ctrl: Running sequence... 75.0%\n",
      "Ctrl: Running sequence... 81.0%\n",
      "Ctrl: Running sequence... 81.0%\n",
      "Ctrl: Running sequence... 88.0%\n",
      "Ctrl: Running sequence... 88.0%\n",
      "Ctrl: Running sequence... 94.0%\n",
      "Ctrl: Running sequence... 94.0%\n",
      "Ctrl: Running sequence... 100.0%\n",
      "Closing spectrum card M2p.6546-x4...\n"
     ]
    }
   ],
   "source": [
    "# Define test sequence and start acquisition, test threading\n",
    "seq = np.arange(16)\n",
    "print(f\"Data passed to acquire func.: {seq}\")\n",
    "_ = acq_control.acquire(seq)"
   ]
  },
  {
   "cell_type": "code",
   "execution_count": null,
   "metadata": {},
   "outputs": [],
   "source": []
  }
 ],
 "metadata": {
  "kernelspec": {
   "display_name": "Python 3",
   "language": "python",
   "name": "python3"
  },
  "language_info": {
   "codemirror_mode": {
    "name": "ipython",
    "version": 3
   },
   "file_extension": ".py",
   "mimetype": "text/x-python",
   "name": "python",
   "nbconvert_exporter": "python",
   "pygments_lexer": "ipython3",
   "version": "3.10.0"
  },
  "orig_nbformat": 4
 },
 "nbformat": 4,
 "nbformat_minor": 2
}
