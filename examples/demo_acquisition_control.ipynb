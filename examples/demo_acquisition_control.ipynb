{
 "cells": [
  {
   "cell_type": "code",
   "execution_count": 3,
   "metadata": {},
   "outputs": [],
   "source": [
    "# Imports\n",
    "import os\n",
    "import yaml\n",
    "import numpy as np\n",
    "\n",
    "from console.utilities.io import yaml_loader\n",
    "from console.spcm_control.acquisition_control import AcquistionControl\n",
    "from console.pulseq_interpreter.sequence import SequenceProvider"
   ]
  },
  {
   "cell_type": "code",
   "execution_count": 4,
   "metadata": {},
   "outputs": [],
   "source": [
    "config_file = os.path.normpath(\"/Users/schote01/code/spectrum-pulseq/device_config.yaml\")\n",
    "\n",
    "# Load config\n",
    "with open(config_file, 'rb') as file:\n",
    "    config = yaml.load(file, Loader=yaml_loader)\n",
    "\n",
    "# Get devices: RxCard or TxCard\n",
    "devices = config[\"devices\"]\n",
    "tx_card = list(filter(lambda device: device.__name__ == \"TxCard\", devices))[0]\n",
    "rx_card = list(filter(lambda device: device.__name__ == \"RxCard\", devices))[0]\n",
    "\n",
    "acq_control = AcquistionControl(tx_card, rx_card)"
   ]
  },
  {
   "cell_type": "code",
   "execution_count": 5,
   "metadata": {},
   "outputs": [
    {
     "name": "stdout",
     "output_type": "stream",
     "text": [
      "Data passed to acquire func.: [ 0  1  2  3  4  5  6  7  8  9 10 11 12 13 14 15]\n",
      "Number of active channels: 4\n",
      "Driver adjusted the sampling rate, sampling rate now is 2000000...\n",
      "Operating TX Card...\n",
      "Sequence data in thread: [ 0  1  2  3  4  5  6  7  8  9 10 11 12 13 14 15]\n",
      "Ctrl: Running sequence... 6.0%\n",
      "Ctrl: Running sequence... 6.0%\n",
      "Ctrl: Running sequence... 12.0%\n",
      "Ctrl: Running sequence... 12.0%\n",
      "Ctrl: Running sequence... 19.0%\n",
      "Ctrl: Running sequence... 19.0%\n",
      "Ctrl: Running sequence... 25.0%\n",
      "Ctrl: Running sequence... 25.0%\n",
      "Ctrl: Running sequence... 31.0%\n",
      "Ctrl: Running sequence... 31.0%\n",
      "Ctrl: Running sequence... 38.0%\n",
      "Ctrl: Running sequence... 38.0%\n",
      "Ctrl: Running sequence... 44.0%\n",
      "Ctrl: Running sequence... 44.0%\n",
      "Ctrl: Running sequence... 50.0%\n",
      "Ctrl: Running sequence... 50.0%\n",
      "Thrd: Half of sequence data processed...\n",
      "Ctrl: Running sequence... 56.00000000000001%\n",
      "Ctrl: Running sequence... 56.00000000000001%\n",
      "Ctrl: Running sequence... 62.0%\n",
      "Ctrl: Running sequence... 69.0%\n",
      "Ctrl: Running sequence... 69.0%\n",
      "Ctrl: Running sequence... 75.0%\n",
      "Ctrl: Running sequence... 75.0%\n",
      "Ctrl: Running sequence... 81.0%\n",
      "Ctrl: Running sequence... 81.0%\n",
      "Ctrl: Running sequence... 88.0%\n",
      "Ctrl: Running sequence... 88.0%\n",
      "Ctrl: Running sequence... 94.0%\n",
      "Ctrl: Running sequence... 94.0%\n",
      "Ctrl: Running sequence... 100.0%\n",
      "Closing spectrum card M2p.6546-x4...\n"
     ]
    }
   ],
   "source": [
    "# Define test sequence and start acquisition, test threading\n",
    "seq = np.arange(16)\n",
    "print(f\"Data passed to acquire func.: {seq}\")\n",
    "_ = acq_control.acquire(seq)"
   ]
  },
  {
   "cell_type": "code",
   "execution_count": null,
   "metadata": {},
   "outputs": [],
   "source": []
  }
 ],
 "metadata": {
  "kernelspec": {
   "display_name": "Python 3",
   "language": "python",
   "name": "python3"
  },
  "language_info": {
   "codemirror_mode": {
    "name": "ipython",
    "version": 3
   },
   "file_extension": ".py",
   "mimetype": "text/x-python",
   "name": "python",
   "nbconvert_exporter": "python",
   "pygments_lexer": "ipython3",
   "version": "3.10.0"
  },
  "orig_nbformat": 4
 },
 "nbformat": 4,
 "nbformat_minor": 2
}
